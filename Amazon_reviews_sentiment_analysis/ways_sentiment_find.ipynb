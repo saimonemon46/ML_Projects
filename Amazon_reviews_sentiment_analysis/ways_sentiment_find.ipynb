{
 "cells": [
  {
   "cell_type": "markdown",
   "id": "5998389a",
   "metadata": {},
   "source": [
    "# Lexicon-Based Approach"
   ]
  },
  {
   "cell_type": "code",
   "execution_count": 1,
   "id": "c72de64f",
   "metadata": {},
   "outputs": [
    {
     "name": "stdout",
     "output_type": "stream",
     "text": [
      "{'neg': 0.0, 'neu': 0.266, 'pos': 0.734, 'compound': 0.8516}\n"
     ]
    },
    {
     "name": "stderr",
     "output_type": "stream",
     "text": [
      "[nltk_data] Downloading package vader_lexicon to\n",
      "[nltk_data]     C:\\Users\\SAIMON\\AppData\\Roaming\\nltk_data...\n",
      "[nltk_data]   Package vader_lexicon is already up-to-date!\n"
     ]
    }
   ],
   "source": [
    "from nltk.sentiment import SentimentIntensityAnalyzer\n",
    "import nltk\n",
    "nltk.download('vader_lexicon')\n",
    "\n",
    "sia = SentimentIntensityAnalyzer()\n",
    "text = \"I love this product, it's amazing!\"\n",
    "score = sia.polarity_scores(text)\n",
    "print(score)\n",
    "# Output: {'neg': 0.0, 'neu': 0.254, 'pos': 0.746, 'compound': 0.8519}\n"
   ]
  },
  {
   "cell_type": "markdown",
   "id": "62affc86",
   "metadata": {},
   "source": [
    "# Machine Learning-Based Approach"
   ]
  },
  {
   "cell_type": "code",
   "execution_count": 5,
   "id": "25b5a4af",
   "metadata": {},
   "outputs": [
    {
     "name": "stdout",
     "output_type": "stream",
     "text": [
      "['negative' 'positive']\n"
     ]
    }
   ],
   "source": [
    "from sklearn.feature_extraction.text import CountVectorizer\n",
    "from sklearn.naive_bayes import MultinomialNB\n",
    "\n",
    "texts = [\"I love this!\", \"This is bad.\", \"Not good\"]\n",
    "labels = [\"positive\", \"negative\", \"negative\"]\n",
    "\n",
    "vectorizer = CountVectorizer()\n",
    "X = vectorizer.fit_transform(texts)\n",
    "model = MultinomialNB()\n",
    "model.fit(X, labels)\n",
    "\n",
    "new_text = [\"I hate it\", \"Absolutely love it\"]\n",
    "X_new = vectorizer.transform(new_text)\n",
    "print(model.predict(X_new))  # ['negative', 'positive']\n"
   ]
  },
  {
   "cell_type": "code",
   "execution_count": null,
   "id": "c69a7420",
   "metadata": {},
   "outputs": [],
   "source": []
  },
  {
   "cell_type": "code",
   "execution_count": null,
   "id": "79fc37ed",
   "metadata": {},
   "outputs": [],
   "source": []
  },
  {
   "cell_type": "code",
   "execution_count": null,
   "id": "42e29888",
   "metadata": {},
   "outputs": [],
   "source": []
  }
 ],
 "metadata": {
  "kernelspec": {
   "display_name": "genv (3.10.11)",
   "language": "python",
   "name": "python3"
  },
  "language_info": {
   "codemirror_mode": {
    "name": "ipython",
    "version": 3
   },
   "file_extension": ".py",
   "mimetype": "text/x-python",
   "name": "python",
   "nbconvert_exporter": "python",
   "pygments_lexer": "ipython3",
   "version": "3.10.11"
  }
 },
 "nbformat": 4,
 "nbformat_minor": 5
}
